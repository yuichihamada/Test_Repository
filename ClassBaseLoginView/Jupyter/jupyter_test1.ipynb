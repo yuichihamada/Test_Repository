{
 "cells": [
  {
   "cell_type": "markdown",
   "id": "b5476e02-8260-4000-bbbd-863f076f2f38",
   "metadata": {},
   "source": [
    "# コードを開始します\n",
    "## ここからコードを書いていきます\n",
    "\n",
    "-作成者：濱田\n",
    "-作成日:2024/5/03"
   ]
  },
  {
   "cell_type": "code",
   "execution_count": 1,
   "id": "0c115279-ae2f-4c7d-b1f2-b9771bdd8f11",
   "metadata": {},
   "outputs": [
    {
     "name": "stdout",
     "output_type": "stream",
     "text": [
      "Hello\n"
     ]
    }
   ],
   "source": [
    "print('Hello')"
   ]
  },
  {
   "cell_type": "code",
   "execution_count": 2,
   "id": "74f0c41e-0805-4490-9384-4efbd4092265",
   "metadata": {},
   "outputs": [],
   "source": [
    "value = 'New Value B'"
   ]
  },
  {
   "cell_type": "code",
   "execution_count": 3,
   "id": "40a35d48-c3ac-4ccd-91b8-f56dfcc18b5f",
   "metadata": {},
   "outputs": [
    {
     "data": {
      "text/plain": [
       "'New Value'"
      ]
     },
     "execution_count": 3,
     "metadata": {},
     "output_type": "execute_result"
    }
   ],
   "source": [
    "value"
   ]
  },
  {
   "cell_type": "code",
   "execution_count": 4,
   "id": "fce53ec9-a117-40d6-a518-fe65b8601fbf",
   "metadata": {},
   "outputs": [
    {
     "name": "stdout",
     "output_type": "stream",
     "text": [
      "New Value\n"
     ]
    }
   ],
   "source": [
    "print(value)"
   ]
  },
  {
   "cell_type": "code",
   "execution_count": 5,
   "id": "66511314-35ed-45f7-8679-93258de61a2a",
   "metadata": {},
   "outputs": [],
   "source": [
    "a = 12 + 5"
   ]
  },
  {
   "cell_type": "code",
   "execution_count": 6,
   "id": "defa35fc-5b22-4eb0-aab0-dbec04ef95bb",
   "metadata": {},
   "outputs": [
    {
     "data": {
      "text/plain": [
       "17"
      ]
     },
     "execution_count": 6,
     "metadata": {},
     "output_type": "execute_result"
    }
   ],
   "source": [
    "a"
   ]
  },
  {
   "cell_type": "markdown",
   "id": "a2af6736-77cd-412d-b440-49bc01d7425e",
   "metadata": {},
   "source": [
    "下は**関数**です"
   ]
  },
  {
   "cell_type": "code",
   "execution_count": 9,
   "id": "fd7a9657-850a-4e8b-9622-f86f1f9ead2a",
   "metadata": {},
   "outputs": [],
   "source": [
    "def print_msg(msg):\n",
    "  print(msg)"
   ]
  },
  {
   "cell_type": "code",
   "execution_count": 10,
   "id": "5e11d02b-347f-4f35-b36c-763f79723c84",
   "metadata": {},
   "outputs": [],
   "source": [
    "class ClassA:\n",
    "    def __init__(self, val):\n",
    "        self.val = val"
   ]
  },
  {
   "cell_type": "code",
   "execution_count": 11,
   "id": "a1453103-357f-4964-aa39-f2bb591bcf92",
   "metadata": {},
   "outputs": [],
   "source": [
    "class_a = ClassA('A')"
   ]
  },
  {
   "cell_type": "code",
   "execution_count": 13,
   "id": "e9f369b8-4870-414c-956f-9ea30400252e",
   "metadata": {},
   "outputs": [
    {
     "name": "stdout",
     "output_type": "stream",
     "text": [
      "A\n"
     ]
    }
   ],
   "source": [
    "print_msg(class_a.val)"
   ]
  },
  {
   "cell_type": "code",
   "execution_count": 16,
   "id": "a9b27a11-01a4-41eb-aee7-10dfd71a5bbf",
   "metadata": {},
   "outputs": [
    {
     "name": "stdout",
     "output_type": "stream",
     "text": [
      "わーい\n"
     ]
    }
   ],
   "source": [
    "print_msg('わーい')"
   ]
  },
  {
   "cell_type": "code",
   "execution_count": 17,
   "id": "f2cf9949-019c-4b12-8eaa-912eefb2a1a0",
   "metadata": {},
   "outputs": [
    {
     "data": {
      "text/plain": [
       "'New Value'"
      ]
     },
     "execution_count": 17,
     "metadata": {},
     "output_type": "execute_result"
    }
   ],
   "source": [
    "value"
   ]
  }
 ],
 "metadata": {
  "kernelspec": {
   "display_name": "Python 3 (ipykernel)",
   "language": "python",
   "name": "python3"
  },
  "language_info": {
   "codemirror_mode": {
    "name": "ipython",
    "version": 3
   },
   "file_extension": ".py",
   "mimetype": "text/x-python",
   "name": "python",
   "nbconvert_exporter": "python",
   "pygments_lexer": "ipython3",
   "version": "3.12.1"
  }
 },
 "nbformat": 4,
 "nbformat_minor": 5
}
